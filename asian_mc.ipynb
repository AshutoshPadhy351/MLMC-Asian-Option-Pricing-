{
 "cells": [
  {
   "cell_type": "code",
   "execution_count": null,
   "id": "3ed60c58",
   "metadata": {},
   "outputs": [
    {
     "name": "stdout",
     "output_type": "stream",
     "text": [
      "Asian Call Option Price: 5.8947\n"
     ]
    }
   ],
   "source": [
    "import numpy as np\n",
    "\n",
    "# Parameters\n",
    "S0 = 100      \n",
    "K = 100       \n",
    "T = 1.0       \n",
    "r = 0.05      \n",
    "sigma = 0.2   \n",
    "n_sim = 100000  \n",
    "n_steps = 50    \n",
    "\n",
    "dt = T / n_steps  # step size\n",
    "\n",
    "S_paths = np.zeros((n_sim, n_steps + 1))\n",
    "S_paths[:, 0] = S0\n",
    "\n",
    "for t in range(1, n_steps + 1):\n",
    "    Z = np.random.randn(n_sim)\n",
    "    S_paths[:, t] = S_paths[:, t-1] * np.exp((r - 0.5 * sigma**2) * dt + sigma * np.sqrt(dt) * Z)\n",
    "\n",
    "S_avg = np.mean(S_paths[:, 1:], axis=1)  # exclude initial S0 if desired\n",
    "\n",
    "payoffs = np.maximum(S_avg - K, 0)\n",
    "\n",
    "price = np.exp(-r * T) * np.mean(payoffs)\n",
    "\n",
    "print(f\"Asian Call Option Price: {price:.4f}\")\n"
   ]
  }
 ],
 "metadata": {
  "kernelspec": {
   "display_name": "Python 3",
   "language": "python",
   "name": "python3"
  },
  "language_info": {
   "codemirror_mode": {
    "name": "ipython",
    "version": 3
   },
   "file_extension": ".py",
   "mimetype": "text/x-python",
   "name": "python",
   "nbconvert_exporter": "python",
   "pygments_lexer": "ipython3",
   "version": "3.13.0"
  }
 },
 "nbformat": 4,
 "nbformat_minor": 5
}
